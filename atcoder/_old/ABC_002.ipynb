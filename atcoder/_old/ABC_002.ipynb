{
 "cells": [
  {
   "cell_type": "code",
   "execution_count": 1,
   "metadata": {
    "collapsed": false
   },
   "outputs": [
    {
     "name": "stdout",
     "output_type": "stream",
     "text": [
      "100 1000\n",
      "1000\n"
     ]
    }
   ],
   "source": [
    "x, y = tuple(map(int, input().split()))\n",
    "\n",
    "res = x if x > y else y\n",
    "\n",
    "print(res)"
   ]
  },
  {
   "cell_type": "code",
   "execution_count": 2,
   "metadata": {
    "collapsed": false
   },
   "outputs": [
    {
     "name": "stdout",
     "output_type": "stream",
     "text": [
      "7 9\n",
      "1 2\n",
      "1 3\n",
      "2 3\n",
      "4 5\n",
      "4 6\n",
      "4 7\n",
      "5 6\n",
      "5 7\n",
      "6 7\n"
     ]
    }
   ],
   "source": [
    "n, m = tuple(map(int, input().split()))\n",
    "edge = []\n",
    "for _ in range(m):\n",
    "    edge.append(tuple(map(int, input().split())))"
   ]
  },
  {
   "cell_type": "code",
   "execution_count": 4,
   "metadata": {
    "collapsed": true
   },
   "outputs": [],
   "source": [
    "edge_ = set(edge)"
   ]
  },
  {
   "cell_type": "code",
   "execution_count": null,
   "metadata": {
    "collapsed": true
   },
   "outputs": [],
   "source": [
    "# edge: a tuple consisted of two node. random order.\n",
    "# edges: list of edge\n",
    "# node: int value\n",
    "# nodes: list of node\n",
    "\n",
    "class creek:\n",
    "    def __init__(self, nodes, edges):\n",
    "        self.n = len(nodes) # the number of nodes\n",
    "        \n",
    "        # some codes which test that the set of edges is creek\n",
    "        # should be located here\n",
    "        # \"the identification of edges and edges are composed from nodes\"\n",
    "        \n",
    "        if len(edges) == (self.n-1) * self.n / 2\n",
    "            self.edges = edges\n",
    "        else:\n",
    "            raise NameError:\n",
    "                print('the set of edges is not compatible with the number of nodes')\n",
    "    \n",
    "    def expand(self, node, edges):\n",
    "        \n",
    "class creeks:\n",
    "    def __init__(self):\n",
    "        self.member"
   ]
  },
  {
   "cell_type": "code",
   "execution_count": 6,
   "metadata": {
    "collapsed": true
   },
   "outputs": [],
   "source": [
    "n = 100"
   ]
  },
  {
   "cell_type": "code",
   "execution_count": null,
   "metadata": {
    "collapsed": true
   },
   "outputs": [],
   "source": []
  }
 ],
 "metadata": {
  "kernelspec": {
   "display_name": "Python [cookbook]",
   "language": "python",
   "name": "Python [cookbook]"
  },
  "language_info": {
   "codemirror_mode": {
    "name": "ipython",
    "version": 3
   },
   "file_extension": ".py",
   "mimetype": "text/x-python",
   "name": "python",
   "nbconvert_exporter": "python",
   "pygments_lexer": "ipython3",
   "version": "3.5.2"
  }
 },
 "nbformat": 4,
 "nbformat_minor": 0
}
