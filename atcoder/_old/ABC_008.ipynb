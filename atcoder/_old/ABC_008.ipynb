{
 "cells": [
  {
   "cell_type": "code",
   "execution_count": 1,
   "metadata": {
    "collapsed": true
   },
   "outputs": [],
   "source": [
    "#B"
   ]
  },
  {
   "cell_type": "code",
   "execution_count": 28,
   "metadata": {
    "collapsed": false
   },
   "outputs": [
    {
     "name": "stdout",
     "output_type": "stream",
     "text": [
      "10\n",
      "a\n",
      "b\n",
      "a\n",
      "b\n",
      "a\n",
      "\n",
      "a\n",
      "c\n",
      "c\n",
      "c\n",
      "a\n"
     ]
    }
   ],
   "source": [
    "import itertools as it\n",
    "p = input\n",
    "n = int(p())\n",
    "l = []\n",
    "for _ in range(n):\n",
    "    l.append(p())\n",
    "l.sort()\n",
    "\n",
    "l1=[]; l2=[]\n",
    "for i, s in it.groupby(l):\n",
    "    l1.append(i)\n",
    "    l2.append(len([0 for _ in s]))\n",
    "print(l1[l2.index(max(l2))])"
   ]
  },
  {
   "cell_type": "code",
   "execution_count": 29,
   "metadata": {
    "collapsed": true
   },
   "outputs": [],
   "source": [
    "#C"
   ]
  },
  {
   "cell_type": "code",
   "execution_count": null,
   "metadata": {
    "collapsed": true
   },
   "outputs": [],
   "source": []
  }
 ],
 "metadata": {
  "kernelspec": {
   "display_name": "Python [Root]",
   "language": "python",
   "name": "Python [Root]"
  },
  "language_info": {
   "codemirror_mode": {
    "name": "ipython",
    "version": 3
   },
   "file_extension": ".py",
   "mimetype": "text/x-python",
   "name": "python",
   "nbconvert_exporter": "python",
   "pygments_lexer": "ipython3",
   "version": "3.5.2"
  }
 },
 "nbformat": 4,
 "nbformat_minor": 0
}
