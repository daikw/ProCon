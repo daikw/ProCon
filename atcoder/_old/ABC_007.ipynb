{
 "cells": [
  {
   "cell_type": "code",
   "execution_count": 1,
   "metadata": {
    "collapsed": true
   },
   "outputs": [],
   "source": [
    "# C"
   ]
  },
  {
   "cell_type": "code",
   "execution_count": 2,
   "metadata": {
    "collapsed": false
   },
   "outputs": [
    {
     "name": "stdout",
     "output_type": "stream",
     "text": [
      "7 8\n",
      "2 2\n",
      "4 5\n",
      "########\n",
      "#......#\n",
      "#.######\n",
      "#..#...#\n",
      "#..##..#\n",
      "##.....#\n",
      "########\n"
     ]
    }
   ],
   "source": [
    "r, c = map(int, input().split())\n",
    "sy, sx = map(int, input().split())\n",
    "gy, gx = map(int, input().split())\n",
    "M = []\n",
    "for _ in range(r):\n",
    "    M.append(input())\n",
    "\n",
    "dic = {(sx, sy): 0}\n",
    "que = [(sx, sy, 0)]\n",
    "\n",
    "while len(que) > 0:\n",
    "    x, y, v = que.pop(0)\n",
    "    for dx, dy in [(-1, 0), (1, 0), (0, -1), (0, 1)]:\n",
    "        if M[x+dx-1][y+dy-1] == '.' and (x+dx, y+dy) not in dic.keys():\n",
    "            dic[(x+dx, y+dy)] = v+1\n",
    "            que.append((x+dx, y+dy, v+1))    "
   ]
  },
  {
   "cell_type": "code",
   "execution_count": 67,
   "metadata": {
    "collapsed": false
   },
   "outputs": [
    {
     "name": "stdout",
     "output_type": "stream",
     "text": [
      "11\n"
     ]
    }
   ],
   "source": [
    "print(dic[(gy, gx)])"
   ]
  },
  {
   "cell_type": "code",
   "execution_count": 68,
   "metadata": {
    "collapsed": false
   },
   "outputs": [
    {
     "name": "stdout",
     "output_type": "stream",
     "text": [
      "\n"
     ]
    }
   ],
   "source": [
    "# C modified\n",
    "inp = lambda:map(int,input().split())\n",
    "r, c = inp()\n",
    "sy, sx = inp()\n",
    "gy, gx = inp()\n",
    "M = []\n",
    "for _ in range(r):\n",
    "    M.append(input())\n",
    "\n",
    "dic = {(sx, sy): 0}\n",
    "que = [(sx, sy, 0)]\n",
    "\n",
    "while len(que) > 0:\n",
    "    x, y, v = que.pop(0)\n",
    "    for dx, dy in [(-1, 0), (1, 0), (0, -1), (0, 1)]:\n",
    "        if M[x+dx-1][y+dy-1] == '.' and (x+dx, y+dy) not in dic.keys():\n",
    "            dic[(x+dx, y+dy)] = v+1\n",
    "            que.append((x+dx, y+dy, v+1))\n",
    "print(dic[(gy, gx)])"
   ]
  },
  {
   "cell_type": "code",
   "execution_count": 76,
   "metadata": {
    "collapsed": true
   },
   "outputs": [],
   "source": [
    "#D"
   ]
  },
  {
   "cell_type": "code",
   "execution_count": 73,
   "metadata": {
    "collapsed": true
   },
   "outputs": [],
   "source": [
    "# 桁落ちするかどうか確認\n",
    "x = 100000000000000000000001"
   ]
  },
  {
   "cell_type": "code",
   "execution_count": 74,
   "metadata": {
    "collapsed": false
   },
   "outputs": [
    {
     "data": {
      "text/plain": [
       "100000000000000000000001"
      ]
     },
     "execution_count": 74,
     "metadata": {},
     "output_type": "execute_result"
    }
   ],
   "source": [
    "x"
   ]
  },
  {
   "cell_type": "code",
   "execution_count": 75,
   "metadata": {
    "collapsed": false
   },
   "outputs": [
    {
     "data": {
      "text/plain": [
       "1000000000000000000000121"
      ]
     },
     "execution_count": 75,
     "metadata": {},
     "output_type": "execute_result"
    }
   ],
   "source": [
    "x*10+111"
   ]
  },
  {
   "cell_type": "code",
   "execution_count": 82,
   "metadata": {
    "collapsed": false
   },
   "outputs": [],
   "source": [
    "l = [0]\n",
    "for i in range(1, 19):\n",
    "    l.append(l[i-1]*8 + 2*10**(i-1))"
   ]
  },
  {
   "cell_type": "code",
   "execution_count": 83,
   "metadata": {
    "collapsed": false
   },
   "outputs": [
    {
     "data": {
      "text/plain": [
       "[0,\n",
       " 2,\n",
       " 36,\n",
       " 488,\n",
       " 5904,\n",
       " 67232,\n",
       " 737856,\n",
       " 7902848,\n",
       " 83222784,\n",
       " 865782272,\n",
       " 8926258176,\n",
       " 91410065408,\n",
       " 931280523264,\n",
       " 9450244186112,\n",
       " 95601953488896,\n",
       " 964815627911168,\n",
       " 9718525023289344,\n",
       " 97748200186314752,\n",
       " 981985601490518016]"
      ]
     },
     "execution_count": 83,
     "metadata": {},
     "output_type": "execute_result"
    }
   ],
   "source": [
    "l"
   ]
  },
  {
   "cell_type": "code",
   "execution_count": 84,
   "metadata": {
    "collapsed": false
   },
   "outputs": [
    {
     "data": {
      "text/plain": [
       "[2, 4, 6, 9, 18, 20, 22, 24, 27, 36]"
      ]
     },
     "execution_count": 84,
     "metadata": {},
     "output_type": "execute_result"
    }
   ],
   "source": [
    "x = 2; y = 10 ** 1\n"
   ]
  },
  {
   "cell_type": "code",
   "execution_count": 105,
   "metadata": {
    "collapsed": false
   },
   "outputs": [
    {
     "ename": "SyntaxError",
     "evalue": "invalid syntax (<ipython-input-105-b2141f432bf4>, line 8)",
     "output_type": "error",
     "traceback": [
      "\u001b[0;36m  File \u001b[0;32m\"<ipython-input-105-b2141f432bf4>\"\u001b[0;36m, line \u001b[0;32m8\u001b[0m\n\u001b[0;31m    if C[0] == '4' or C[0] == '9':\u001b[0m\n\u001b[0m                                 ^\u001b[0m\n\u001b[0;31mSyntaxError\u001b[0m\u001b[0;31m:\u001b[0m invalid syntax\n"
     ]
    }
   ],
   "source": [
    "p = lambda x, y: [x, 2*x, 3*x, 4*x+1, 4*x+y, 5*x+y, 6*x+y, 7*x+y, 8*x+y+1, 8*x+2*y]\n",
    "def f(C):\n",
    "    if C == 0:\n",
    "        return 0\n",
    "    \n",
    "    C == str(C)\n",
    "    a = p(l[len(C)-2], 10**(len(C-1)) \n",
    "    if C[0] == '4' or C[0] == '9':\n",
    "        print(C, '4or9')\n",
    "        return a + int(C[1:])\n",
    "    else:\n",
    "        print(C, 'others')\n",
    "        return a + f(C[1:])"
   ]
  },
  {
   "cell_type": "code",
   "execution_count": 107,
   "metadata": {
    "collapsed": false
   },
   "outputs": [
    {
     "data": {
      "text/plain": [
       "5"
      ]
     },
     "execution_count": 107,
     "metadata": {},
     "output_type": "execute_result"
    }
   ],
   "source": [
    "59 // 10"
   ]
  },
  {
   "cell_type": "code",
   "execution_count": 108,
   "metadata": {
    "collapsed": false
   },
   "outputs": [
    {
     "data": {
      "text/plain": [
       "9"
      ]
     },
     "execution_count": 108,
     "metadata": {},
     "output_type": "execute_result"
    }
   ],
   "source": [
    "59 % 10"
   ]
  },
  {
   "cell_type": "code",
   "execution_count": 109,
   "metadata": {
    "collapsed": true
   },
   "outputs": [],
   "source": [
    "# D"
   ]
  },
  {
   "cell_type": "code",
   "execution_count": 112,
   "metadata": {
    "collapsed": false
   },
   "outputs": [
    {
     "name": "stdout",
     "output_type": "stream",
     "text": [
      "1 1000\n",
      "488\n"
     ]
    }
   ],
   "source": [
    "def ch(n):\n",
    "    cnt = 0\n",
    "    p = 1\n",
    "    q = 0\n",
    "    while n > 0:\n",
    "        if '4' in str(n // 10) or '9' in str(n // 10):\n",
    "            cnt += n % 10 * p\n",
    "        else:\n",
    "            for x in  range(n % 10):\n",
    "                if x in {4, 9}:\n",
    "                    cnt += p\n",
    "                else:\n",
    "                    cnt += q\n",
    "        \n",
    "        n //= 10\n",
    "        q = 2 * p + 8 * q\n",
    "        p *= 10\n",
    "    \n",
    "    return cnt\n",
    " \n",
    "n, m = map(int, input().split())\n",
    "print(ch(m+1) - ch(n))"
   ]
  },
  {
   "cell_type": "code",
   "execution_count": null,
   "metadata": {
    "collapsed": true
   },
   "outputs": [],
   "source": []
  }
 ],
 "metadata": {
  "anaconda-cloud": {},
  "kernelspec": {
   "display_name": "Python [Root]",
   "language": "python",
   "name": "Python [Root]"
  },
  "language_info": {
   "codemirror_mode": {
    "name": "ipython",
    "version": 3
   },
   "file_extension": ".py",
   "mimetype": "text/x-python",
   "name": "python",
   "nbconvert_exporter": "python",
   "pygments_lexer": "ipython3",
   "version": "3.5.2"
  }
 },
 "nbformat": 4,
 "nbformat_minor": 0
}
