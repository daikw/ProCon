{
 "cells": [
  {
   "cell_type": "code",
   "execution_count": 1,
   "metadata": {
    "collapsed": true
   },
   "outputs": [],
   "source": [
    "# A"
   ]
  },
  {
   "cell_type": "code",
   "execution_count": 10,
   "metadata": {
    "collapsed": false
   },
   "outputs": [
    {
     "name": "stdout",
     "output_type": "stream",
     "text": [
      "4 3\n",
      "0\n"
     ]
    }
   ],
   "source": [
    "x, y = tuple(map(int, input().split()))\n",
    "print(y // x)"
   ]
  },
  {
   "cell_type": "code",
   "execution_count": 11,
   "metadata": {
    "collapsed": true
   },
   "outputs": [],
   "source": [
    "# B"
   ]
  },
  {
   "cell_type": "code",
   "execution_count": 18,
   "metadata": {
    "collapsed": false
   },
   "outputs": [
    {
     "name": "stdout",
     "output_type": "stream",
     "text": [
      "5\n",
      "3\n",
      "1\n",
      "4\n",
      "1\n",
      "5\n",
      "1\n"
     ]
    }
   ],
   "source": [
    "n = int(input())\n",
    "t = []\n",
    "for i in range(n):\n",
    "    t.append(int(input()))\n",
    "t.sort()\n",
    "print(t[0])"
   ]
  },
  {
   "cell_type": "code",
   "execution_count": 19,
   "metadata": {
    "collapsed": true
   },
   "outputs": [],
   "source": [
    "# C"
   ]
  },
  {
   "cell_type": "code",
   "execution_count": 55,
   "metadata": {
    "collapsed": false
   },
   "outputs": [
    {
     "name": "stdout",
     "output_type": "stream",
     "text": [
      "1\n",
      "3\n",
      "1 2 3\n",
      "3\n",
      "1 2 2\n"
     ]
    }
   ],
   "source": [
    "p = input; i = int\n",
    "t = i(p())\n",
    "n = i(p())\n",
    "a = list(map(i, p().split()))\n",
    "m = i(p())\n",
    "b = list(map(i, p().split()))\n",
    "\n",
    "if(n < m):\n",
    "    f = False\n",
    "else:\n",
    "    l = [0]*250\n",
    "    for x in a: l[x+t] = 1\n",
    "    for c in b:\n",
    "        f = False\n",
    "        for i, y in enumerate(l[c:c+t+1]):\n",
    "            if y == 1:\n",
    "                l[c+i] = 0\n",
    "                f = True\n",
    "                break\n",
    "        if not f: break\n",
    "if f:\n",
    "    print('yes')\n",
    "else:\n",
    "    print('no')"
   ]
  }
 ],
 "metadata": {
  "kernelspec": {
   "display_name": "Python [cookbook]",
   "language": "python",
   "name": "Python [cookbook]"
  },
  "language_info": {
   "codemirror_mode": {
    "name": "ipython",
    "version": 3
   },
   "file_extension": ".py",
   "mimetype": "text/x-python",
   "name": "python",
   "nbconvert_exporter": "python",
   "pygments_lexer": "ipython3",
   "version": "3.5.2"
  }
 },
 "nbformat": 4,
 "nbformat_minor": 0
}
