{
 "cells": [
  {
   "cell_type": "code",
   "execution_count": 13,
   "metadata": {
    "collapsed": false
   },
   "outputs": [
    {
     "name": "stdout",
     "output_type": "stream",
     "text": [
      "7 6 1\n",
      "3 4\n"
     ]
    }
   ],
   "source": [
    "w, h, n = tuple(map(int, input().split()))\n",
    "x, y = tuple(map(int, input().split()))"
   ]
  },
  {
   "cell_type": "code",
   "execution_count": 14,
   "metadata": {
    "collapsed": false
   },
   "outputs": [
    {
     "name": "stdout",
     "output_type": "stream",
     "text": [
      "L 5\n",
      "5 4\n"
     ]
    }
   ],
   "source": [
    "for _ in range(n):\n",
    "    dirm = input().split()\n",
    "    dir = dirm[0]; m = int(dirm[1])\n",
    "    if dir == 'U':\n",
    "        y = (y + m) % h\n",
    "    elif dir == 'D':\n",
    "        y = (y - m) % h\n",
    "    elif dir == 'R':\n",
    "        x = (x + m) % w\n",
    "    elif dir == 'L':\n",
    "        x = (x - m) % w\n",
    "\n",
    "print(x, y)"
   ]
  },
  {
   "cell_type": "code",
   "execution_count": null,
   "metadata": {
    "collapsed": true
   },
   "outputs": [],
   "source": []
  }
 ],
 "metadata": {
  "anaconda-cloud": {},
  "kernelspec": {
   "display_name": "Python [cookbook]",
   "language": "python",
   "name": "Python [cookbook]"
  },
  "language_info": {
   "codemirror_mode": {
    "name": "ipython",
    "version": 3
   },
   "file_extension": ".py",
   "mimetype": "text/x-python",
   "name": "python",
   "nbconvert_exporter": "python",
   "pygments_lexer": "ipython3",
   "version": "3.5.2"
  }
 },
 "nbformat": 4,
 "nbformat_minor": 0
}
