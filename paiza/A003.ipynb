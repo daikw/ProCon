{
 "cells": [
  {
   "cell_type": "code",
   "execution_count": 18,
   "metadata": {
    "collapsed": false
   },
   "outputs": [],
   "source": [
    "class Board():\n",
    "    \"\"\" color: 'B'(black) or 'W'(white) or 'N'(nothing) only\n",
    "        the method 'reverse' should not be used in main code \"\"\"\n",
    "    \n",
    "    def __init__(self):\n",
    "        self.B, self.W = 2, 2\n",
    "        self.board = {(4, 4): 'W', (5, 4): 'B', (4, 5): 'B', (5, 5): 'W'}\n",
    "        self.reverse_list = []\n",
    "\n",
    "    def get_color(self, x, y):\n",
    "        if (x, y) in self.board.keys():\n",
    "            return self.board[(x, y)]\n",
    "        else:\n",
    "            return 'N'\n",
    "    \n",
    "    def set_color(self, color, x, y):\n",
    "        self.board[(x, y)] = color\n",
    "    \n",
    "    def get_w_count(self):\n",
    "        return list(self.board.values()).count('W')\n",
    "\n",
    "    def get_b_count(self):\n",
    "        return list(self.board.values()).count('B')\n",
    "    \n",
    "    def put(self, color, x, y):\n",
    "        self.set_color(color, x, y)\n",
    "        for dx in (0, 1, -1):\n",
    "            for dy in (0, 1, -1):\n",
    "                self.reverse_list = []\n",
    "                self.reverse(color, x, y, dx, dy)\n",
    "                \n",
    "    def reverse(self, color, x, y, dx, dy):\n",
    "        if dx == dy == 0:\n",
    "            return None\n",
    "\n",
    "        next_color = self.get_color(x+dx, y+dy)\n",
    "\n",
    "        if next_color == 'N':\n",
    "            return None\n",
    "\n",
    "        if next_color == color:\n",
    "            for x_, y_ in self.reverse_list:\n",
    "                self.set_color(color, x_, y_)\n",
    "        \n",
    "        else:\n",
    "            self.reverse_list.append((x+dx, y+dy))\n",
    "            self.reverse(color, x+dx, y+dy, dx, dy)\n",
    "            \n",
    "    def print_board(self):\n",
    "        print('--------------------------')\n",
    "        for i in range(1, 9):\n",
    "            for j in range(1, 9):\n",
    "                print(self.get_color(i, j), sep='', end='')\n",
    "            print()\n",
    "        print('--------------------------')\n",
    "        print()\n",
    "\n",
    "board = Board()\n",
    "n = int(input())\n",
    "board.print_board()\n",
    "for _ in range(n):\n",
    "    l = input().split()\n",
    "    board.put(l[0], int(l[1]), int(l[2]))\n",
    "    board.print_board()\n",
    "\n",
    "\n",
    "wc, bc = board.get_w_count(), board.get_b_count()\n",
    "if bc == wc:\n",
    "    print(bc, '-', wc, ' Draw!', sep = '')\n",
    "\n",
    "elif bc > wc:\n",
    "    print(bc, '-', wc, ' The black won!')\n",
    "\n",
    "elif bc < wc:\n",
    "    print(bc, '-', wc, ' The white won!')\n"
   ]
  },
  {
   "cell_type": "code",
   "execution_count": 28,
   "metadata": {
    "collapsed": true
   },
   "outputs": [],
   "source": [
    "color = 'W'"
   ]
  },
  {
   "cell_type": "code",
   "execution_count": 34,
   "metadata": {
    "collapsed": false
   },
   "outputs": [
    {
     "data": {
      "text/plain": [
       "'B 12 24'"
      ]
     },
     "execution_count": 34,
     "metadata": {},
     "output_type": "execute_result"
    }
   ],
   "source": [
    "k"
   ]
  },
  {
   "cell_type": "code",
   "execution_count": 35,
   "metadata": {
    "collapsed": false
   },
   "outputs": [
    {
     "data": {
      "text/plain": [
       "<__main__.Board at 0x186f13f66d8>"
      ]
     },
     "execution_count": 35,
     "metadata": {},
     "output_type": "execute_result"
    }
   ],
   "source": [
    "x"
   ]
  },
  {
   "cell_type": "code",
   "execution_count": 36,
   "metadata": {
    "collapsed": false
   },
   "outputs": [
    {
     "data": {
      "text/plain": [
       "{(4, 4): 'W', (4, 5): 'W', (5, 4): 'B', (5, 5): 'B'}"
      ]
     },
     "execution_count": 36,
     "metadata": {},
     "output_type": "execute_result"
    }
   ],
   "source": [
    "board"
   ]
  },
  {
   "cell_type": "code",
   "execution_count": 38,
   "metadata": {
    "collapsed": false
   },
   "outputs": [
    {
     "data": {
      "text/plain": [
       "dict_keys([(4, 5), (5, 4), (4, 4), (5, 5)])"
      ]
     },
     "execution_count": 38,
     "metadata": {},
     "output_type": "execute_result"
    }
   ],
   "source": [
    "board.keys()"
   ]
  },
  {
   "cell_type": "code",
   "execution_count": 39,
   "metadata": {
    "collapsed": true
   },
   "outputs": [],
   "source": [
    "print?"
   ]
  },
  {
   "cell_type": "code",
   "execution_count": 40,
   "metadata": {
    "collapsed": false
   },
   "outputs": [
    {
     "name": "stdout",
     "output_type": "stream",
     "text": [
      "1\n",
      "2\n",
      "3\n",
      "4\n",
      "5\n",
      "6\n",
      "7\n"
     ]
    }
   ],
   "source": [
    "for i in range(1, 8):\n",
    "    print(i)"
   ]
  },
  {
   "cell_type": "code",
   "execution_count": null,
   "metadata": {
    "collapsed": true
   },
   "outputs": [],
   "source": []
  },
  {
   "cell_type": "code",
   "execution_count": 43,
   "metadata": {
    "collapsed": false
   },
   "outputs": [],
   "source": [
    "def f():\n",
    "    for dx in (0, 1, -1):\n",
    "        for dy in (0, 1, -1):\n",
    "            if dx == dy == 1:\n",
    "                return None\n",
    "            print(dx, dy)"
   ]
  },
  {
   "cell_type": "code",
   "execution_count": 44,
   "metadata": {
    "collapsed": false
   },
   "outputs": [
    {
     "name": "stdout",
     "output_type": "stream",
     "text": [
      "0 0\n",
      "0 1\n",
      "0 -1\n",
      "1 0\n"
     ]
    }
   ],
   "source": [
    "f()"
   ]
  },
  {
   "cell_type": "code",
   "execution_count": 47,
   "metadata": {
    "collapsed": false
   },
   "outputs": [
    {
     "name": "stdout",
     "output_type": "stream",
     "text": [
      "W 1 1\n"
     ]
    }
   ],
   "source": [
    "l = input().split()"
   ]
  },
  {
   "cell_type": "code",
   "execution_count": 48,
   "metadata": {
    "collapsed": false
   },
   "outputs": [
    {
     "data": {
      "text/plain": [
       "['W', '1', '1']"
      ]
     },
     "execution_count": 48,
     "metadata": {},
     "output_type": "execute_result"
    }
   ],
   "source": [
    "l"
   ]
  },
  {
   "cell_type": "code",
   "execution_count": 49,
   "metadata": {
    "collapsed": false
   },
   "outputs": [
    {
     "data": {
      "text/plain": [
       "True"
      ]
     },
     "execution_count": 49,
     "metadata": {},
     "output_type": "execute_result"
    }
   ],
   "source": [
    "l[0] == 'W'"
   ]
  },
  {
   "cell_type": "code",
   "execution_count": 63,
   "metadata": {
    "collapsed": true
   },
   "outputs": [],
   "source": [
    "color = 'W'"
   ]
  },
  {
   "cell_type": "code",
   "execution_count": 64,
   "metadata": {
    "collapsed": true
   },
   "outputs": [],
   "source": [
    "other = 'B' if color == 'W' else 'W'\n"
   ]
  },
  {
   "cell_type": "code",
   "execution_count": 65,
   "metadata": {
    "collapsed": false
   },
   "outputs": [
    {
     "data": {
      "text/plain": [
       "'B'"
      ]
     },
     "execution_count": 65,
     "metadata": {},
     "output_type": "execute_result"
    }
   ],
   "source": [
    "other"
   ]
  },
  {
   "cell_type": "code",
   "execution_count": 66,
   "metadata": {
    "collapsed": true
   },
   "outputs": [],
   "source": [
    "for x, y in []:\n",
    "    print(x, y)"
   ]
  },
  {
   "cell_type": "code",
   "execution_count": null,
   "metadata": {
    "collapsed": true
   },
   "outputs": [],
   "source": []
  }
 ],
 "metadata": {
  "anaconda-cloud": {},
  "kernelspec": {
   "display_name": "Python [cookbook]",
   "language": "python",
   "name": "Python [cookbook]"
  },
  "language_info": {
   "codemirror_mode": {
    "name": "ipython",
    "version": 3
   },
   "file_extension": ".py",
   "mimetype": "text/x-python",
   "name": "python",
   "nbconvert_exporter": "python",
   "pygments_lexer": "ipython3",
   "version": "3.5.2"
  }
 },
 "nbformat": 4,
 "nbformat_minor": 0
}
