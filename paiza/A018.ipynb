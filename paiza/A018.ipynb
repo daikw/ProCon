{
 "cells": [
  {
   "cell_type": "code",
   "execution_count": 56,
   "metadata": {
    "collapsed": true
   },
   "outputs": [],
   "source": [
    "import math\n",
    "\n",
    "def calctheta(x, y, a, b):\n",
    "    if a - x == 0:\n",
    "        if b - y > 0:\n",
    "            theta = 90\n",
    "        else:\n",
    "            theta = 270\n",
    "    elif b - y == 0:\n",
    "        if a - x > 0:\n",
    "            theta = 0\n",
    "        else:\n",
    "            theta = 180\n",
    "    else:\n",
    "        theta = math.atan((b - y) / (a - x)) * 180 / math.pi\n",
    "        if theta < 0:\n",
    "            theta += 360\n",
    "    return theta\n",
    "\n",
    "def incam(xytdr, ab):\n",
    "    x = xytdr[0]; y = xytdr[1]\n",
    "    t = xytdr[2]; d = xytdr[3]; r = xytdr[4]\n",
    "    a = ab[0]; b = ab[1]\n",
    "    print('x=', x, 'y=', y, 't=', t, 'd=', d, 'r=', r)\n",
    "    print('a=', a, 'b=', b)\n",
    "    if (x - a) ** 2 + (y - b) ** 2 >= r ** 2:\n",
    "        print('too long')\n",
    "        return False\n",
    "\n",
    "    # No boundary test case\n",
    "    if x == a and y == b:\n",
    "        return True\n",
    "    \n",
    "    theta = calctheta(x, y, a, b)\n",
    "    print('theta =', theta)\n",
    "    print('t + d / 2 =', t + d / 2)\n",
    "    if t - d / 2 < 0:\n",
    "        return t - d / 2 <= theta <= 360 or 0 <= theta <= t - d / 2\n",
    "    elif t + d / 2 > 360:\n",
    "        return 0 <= theta <= t + d / 2 - 360 or t - d / 2 <= theta <= 360\n",
    "    else:\n",
    "        return t - d / 2 <= theta <= t + d / 2\n",
    "\n",
    "def incam_s(xytdr_s, ab):\n",
    "    for xytdr in xytdr_s:\n",
    "        if incam(xytdr, ab):\n",
    "            return True\n",
    "    return False"
   ]
  },
  {
   "cell_type": "code",
   "execution_count": 32,
   "metadata": {
    "collapsed": false
   },
   "outputs": [
    {
     "name": "stdout",
     "output_type": "stream",
     "text": [
      "30 10 3 4\n",
      "0 0 30 30 15\n",
      "15 5 210 30 15\n",
      "30 10 270 45 5\n",
      "7 2\n",
      "7 8\n",
      "30 9\n",
      "30 0\n"
     ]
    }
   ],
   "source": [
    "# input\n",
    "w, h, m, n = tuple(map(int, input().split()))\n",
    "\n",
    "xytdr_s = []\n",
    "for _ in range(m):\n",
    "    xytdr_s.append(list(map(int, input().split())))\n",
    "ab_s = []\n",
    "for _ in range(n):\n",
    "    ab_s.append(tuple(map(int, input().split())))"
   ]
  },
  {
   "cell_type": "code",
   "execution_count": 55,
   "metadata": {
    "collapsed": false
   },
   "outputs": [
    {
     "name": "stdout",
     "output_type": "stream",
     "text": [
      "x= 0 y= 0 t= 30 d= 30 r= 15\n",
      "a= 7 b= 2\n",
      "theta = 195.94539590092285\n",
      "t + d / 2 = 45.0\n",
      "x= 15 y= 5 t= 210 d= 30 r= 15\n",
      "a= 7 b= 2\n",
      "theta = 200.55604521958347\n",
      "t + d / 2 = 225.0\n",
      "yes\n",
      "x= 0 y= 0 t= 30 d= 30 r= 15\n",
      "a= 7 b= 8\n",
      "theta = 228.81407483429035\n",
      "t + d / 2 = 45.0\n",
      "x= 15 y= 5 t= 210 d= 30 r= 15\n",
      "a= 7 b= 8\n",
      "theta = 159.44395478041653\n",
      "t + d / 2 = 225.0\n",
      "x= 30 y= 10 t= 270 d= 45 r= 5\n",
      "a= 7 b= 8\n",
      "too long\n",
      "no\n",
      "x= 0 y= 0 t= 30 d= 30 r= 15\n",
      "a= 30 b= 9\n",
      "too long\n",
      "x= 15 y= 5 t= 210 d= 30 r= 15\n",
      "a= 30 b= 9\n",
      "too long\n",
      "x= 30 y= 10 t= 270 d= 45 r= 5\n",
      "a= 30 b= 9\n",
      "theta = 270\n",
      "t + d / 2 = 292.5\n",
      "yes\n",
      "x= 0 y= 0 t= 30 d= 30 r= 15\n",
      "a= 30 b= 0\n",
      "too long\n",
      "x= 15 y= 5 t= 210 d= 30 r= 15\n",
      "a= 30 b= 0\n",
      "too long\n",
      "x= 30 y= 10 t= 270 d= 45 r= 5\n",
      "a= 30 b= 0\n",
      "too long\n",
      "no\n"
     ]
    }
   ],
   "source": [
    "# output\n",
    "for ab in ab_s:\n",
    "    if incam_s(xytdr_s, ab):\n",
    "        print('yes')\n",
    "    else:\n",
    "        print('no')"
   ]
  },
  {
   "cell_type": "code",
   "execution_count": null,
   "metadata": {
    "collapsed": true
   },
   "outputs": [],
   "source": []
  }
 ],
 "metadata": {
  "anaconda-cloud": {},
  "kernelspec": {
   "display_name": "Python [cookbook]",
   "language": "python",
   "name": "Python [cookbook]"
  },
  "language_info": {
   "codemirror_mode": {
    "name": "ipython",
    "version": 3
   },
   "file_extension": ".py",
   "mimetype": "text/x-python",
   "name": "python",
   "nbconvert_exporter": "python",
   "pygments_lexer": "ipython3",
   "version": "3.5.2"
  }
 },
 "nbformat": 4,
 "nbformat_minor": 0
}
