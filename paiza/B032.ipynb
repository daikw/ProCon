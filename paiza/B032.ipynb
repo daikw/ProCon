{
 "cells": [
  {
   "cell_type": "code",
   "execution_count": null,
   "metadata": {
    "collapsed": true
   },
   "outputs": [],
   "source": [
    "def decode_soroban(w, strlist):\n",
    "    num = [0] * w\n",
    "    for i, s in enumerate(strlist[1]):\n",
    "        if s == '*':\n",
    "            num[i] += 5\n",
    "    \n",
    "    x = [1] * w\n",
    "    for row in strlist[3:8]:\n",
    "        for i, s in enumerate(row):\n",
    "            if x[i] == 1:\n",
    "                if s == '*':\n",
    "                    num[i] += 1\n",
    "                else:\n",
    "                    x[i] = 0\n",
    "\n",
    "    res = 0\n",
    "    for i, n in enumerate(num):\n",
    "        res += 10 ** (w-i-1) * n\n",
    "    \n",
    "    return res"
   ]
  },
  {
   "cell_type": "code",
   "execution_count": null,
   "metadata": {
    "collapsed": true
   },
   "outputs": [],
   "source": [
    "def encode_soroban(w, number):\n",
    "    table = [[\"*\",\"*\",\"*\",\"*\",\"*\",\"|\",\"|\",\"|\",\"|\",\"|\"],\n",
    "            [\"|\",\"|\",\"|\",\"|\",\"|\",\"*\",\"*\",\"*\",\"*\",\"*\"],\n",
    "            [\"=\",\"=\",\"=\",\"=\",\"=\",\"=\",\"=\",\"=\",\"=\",\"=\"],\n",
    "            [\"|\",\"*\",\"*\",\"*\",\"*\",\"|\",\"*\",\"*\",\"*\",\"*\"],\n",
    "            [\"*\",\"|\",\"*\",\"*\",\"*\",\"*\",\"|\",\"*\",\"*\",\"*\"],\n",
    "            [\"*\",\"*\",\"|\",\"*\",\"*\",\"*\",\"*\",\"|\",\"*\",\"*\"],\n",
    "            [\"*\",\"*\",\"*\",\"|\",\"*\",\"*\",\"*\",\"*\",\"|\",\"*\"],\n",
    "            [\"*\",\"*\",\"*\",\"*\",\"|\",\"*\",\"*\",\"*\",\"*\",\"|\"],]\n",
    "    table = np.array(table).T\n",
    "    \n",
    "    res = np.ndarray((w, 8), dtype = '<U1')\n",
    "    for i, s in enumerate(str(number).zfill(w)):\n",
    "        res[i] = table[int(s)]\n",
    "    \n",
    "    return res.T"
   ]
  },
  {
   "cell_type": "code",
   "execution_count": null,
   "metadata": {
    "collapsed": true
   },
   "outputs": [],
   "source": [
    "A, B = [], []\n",
    "w = int(input())\n",
    "for i in range(8):\n",
    "    A.append(str(input()))\n",
    "for i in range(8):\n",
    "    B.append(str(input()))\n",
    "\n",
    "resT = encode_soroban(w, decode_soroban(w, A) + decode_soroban(w, B))\n",
    "\n",
    "for row in resT:\n",
    "    print(''.join(row))"
   ]
  }
 ],
 "metadata": {
  "anaconda-cloud": {},
  "kernelspec": {
   "display_name": "Python [cookbook]",
   "language": "python",
   "name": "Python [cookbook]"
  },
  "language_info": {
   "codemirror_mode": {
    "name": "ipython",
    "version": 3
   },
   "file_extension": ".py",
   "mimetype": "text/x-python",
   "name": "python",
   "nbconvert_exporter": "python",
   "pygments_lexer": "ipython3",
   "version": "3.5.2"
  }
 },
 "nbformat": 4,
 "nbformat_minor": 0
}
