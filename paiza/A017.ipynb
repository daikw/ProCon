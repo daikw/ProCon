{
 "cells": [
  {
   "cell_type": "code",
   "execution_count": 74,
   "metadata": {
    "collapsed": false
   },
   "outputs": [],
   "source": [
    "topend = [0] * W\n",
    "result = [[0] * W for _ in range(H)]\n",
    "for i in range(N):\n",
    "    for _ in range(h[i]):\n",
    "        l = x[i]; r = x[i] + w[i]\n",
    "        fixh = max(topend[l:r])\n",
    "        result[fixh][l:r] = [1] * w[i]\n",
    "        topend[l:r] = [fixh + 1] * w[i]\n",
    "result.reverse()"
   ]
  },
  {
   "cell_type": "code",
   "execution_count": 75,
   "metadata": {
    "collapsed": false
   },
   "outputs": [
    {
     "data": {
      "text/plain": [
       "[[0, 0, 0, 0, 0, 0, 0, 0, 0, 0],\n",
       " [0, 0, 1, 1, 1, 1, 1, 1, 0, 0],\n",
       " [0, 0, 0, 0, 0, 1, 0, 0, 0, 0],\n",
       " [0, 0, 0, 0, 0, 1, 0, 0, 0, 0],\n",
       " [1, 1, 0, 0, 0, 1, 0, 0, 0, 0],\n",
       " [1, 1, 0, 0, 0, 1, 0, 0, 0, 0],\n",
       " [0, 1, 1, 1, 1, 1, 1, 1, 1, 0]]"
      ]
     },
     "execution_count": 75,
     "metadata": {},
     "output_type": "execute_result"
    }
   ],
   "source": [
    "result"
   ]
  },
  {
   "cell_type": "code",
   "execution_count": 76,
   "metadata": {
    "collapsed": false
   },
   "outputs": [],
   "source": [
    "def tochar(bins):\n",
    "    line = ''\n",
    "    for b in bins:\n",
    "        if b == 0:\n",
    "            line = line + '.'\n",
    "        else:\n",
    "            line = line + '#'\n",
    "    return line"
   ]
  },
  {
   "cell_type": "code",
   "execution_count": 77,
   "metadata": {
    "collapsed": false
   },
   "outputs": [
    {
     "name": "stdout",
     "output_type": "stream",
     "text": [
      "..........\n",
      "..######..\n",
      ".....#....\n",
      ".....#....\n",
      "##...#....\n",
      "##...#....\n",
      ".########.\n"
     ]
    }
   ],
   "source": [
    "for row in result:\n",
    "    print(tochar(row))"
   ]
  },
  {
   "cell_type": "code",
   "execution_count": 6,
   "metadata": {
    "collapsed": false
   },
   "outputs": [
    {
     "name": "stdout",
     "output_type": "stream",
     "text": [
      "7 10 4\n",
      "1 8 1\n",
      "4 1 5\n",
      "1 6 2\n",
      "2 2 0\n"
     ]
    }
   ],
   "source": [
    "#input\n",
    "H, W, N = tuple(map(int, input().split()))\n",
    "h = [0] * N; w = [0] * N; x = [0] * N\n",
    "for i in range(N):\n",
    "    h[i], w[i], x[i] = tuple(map(int, input().split()))"
   ]
  },
  {
   "cell_type": "code",
   "execution_count": 8,
   "metadata": {
    "collapsed": false
   },
   "outputs": [
    {
     "name": "stdout",
     "output_type": "stream",
     "text": [
      "[1, 4, 1, 2]\n",
      "[8, 1, 6, 2]\n",
      "[1, 5, 2, 0]\n"
     ]
    }
   ],
   "source": [
    "print(h)\n",
    "print(w)\n",
    "print(x)"
   ]
  },
  {
   "cell_type": "code",
   "execution_count": null,
   "metadata": {
    "collapsed": true
   },
   "outputs": [],
   "source": []
  }
 ],
 "metadata": {
  "kernelspec": {
   "display_name": "Python [cookbook]",
   "language": "python",
   "name": "Python [cookbook]"
  },
  "language_info": {
   "codemirror_mode": {
    "name": "ipython",
    "version": 3
   },
   "file_extension": ".py",
   "mimetype": "text/x-python",
   "name": "python",
   "nbconvert_exporter": "python",
   "pygments_lexer": "ipython3",
   "version": "3.5.2"
  }
 },
 "nbformat": 4,
 "nbformat_minor": 0
}
