{
 "cells": [
  {
   "cell_type": "code",
   "execution_count": 139,
   "metadata": {
    "collapsed": false
   },
   "outputs": [
    {
     "name": "stdout",
     "output_type": "stream",
     "text": [
      "2\n",
      "id name\n",
      "3\n",
      "1 ito\n",
      "2 sakakibara\n",
      "3 takahashi\n",
      "| id | name       |\n",
      "|----|------------|\n",
      "| 1  | ito        |\n",
      "| 2  | sakakibara |\n",
      "| 3  | takahashi  |\n"
     ]
    }
   ],
   "source": [
    "W = int(input())\n",
    "C = input().split(\" \")\n",
    "Cnum = list(map(len, C))\n",
    "H = int(input())\n",
    "R = list()\n",
    "Rnum = list()\n",
    "for i in range(H):\n",
    "    R.append(input().split(\" \"))\n",
    "    Rnum.append(list(map(len, R[i])))\n",
    "\n",
    "Cnum = list(map(len, C))\n",
    "\n",
    "maxC = list()\n",
    "for i in range(W):\n",
    "    maxC.append(max(max([k[i] for k in Rnum]), Cnum[i]))\n",
    "\n",
    "def makeline(itemlist, maxC, fillchar):\n",
    "    strg = list()\n",
    "    strg.append('|' + fillchar)\n",
    "    for i, k in enumerate(maxC):\n",
    "        strg.append(itemlist[i].ljust(k, fillchar))\n",
    "        strg.append(fillchar + '|' + fillchar)\n",
    "    return ''.join(strg)[:-1]\n",
    "\n",
    "print(makeline(C, maxC, ' '))\n",
    "print(makeline(['' for k in range(W)], maxC, '-'))\n",
    "for j in range(H):\n",
    "    print(makeline(R[j], maxC, ' '))"
   ]
  },
  {
   "cell_type": "code",
   "execution_count": null,
   "metadata": {
    "collapsed": true
   },
   "outputs": [],
   "source": [
    "Cnum = list(map(len, C))"
   ]
  },
  {
   "cell_type": "code",
   "execution_count": 134,
   "metadata": {
    "collapsed": false
   },
   "outputs": [],
   "source": [
    "maxC = list()\n",
    "for i in range(W):\n",
    "    maxC.append(max(max([k[i] for k in Rnum]), Cnum[i]))"
   ]
  },
  {
   "cell_type": "code",
   "execution_count": 135,
   "metadata": {
    "collapsed": false
   },
   "outputs": [],
   "source": [
    "def makeline(itemlist, maxC, fillchar):\n",
    "    strg = list()\n",
    "    strg.append('| ')\n",
    "    for i, k in enumerate(maxC):\n",
    "        strg.append(itemlist[i].ljust(k, fillchar))\n",
    "        strg.append(' | ')\n",
    "    return ''.join(strg)[:-1]"
   ]
  },
  {
   "cell_type": "code",
   "execution_count": 136,
   "metadata": {
    "collapsed": false
   },
   "outputs": [
    {
     "name": "stdout",
     "output_type": "stream",
     "text": [
      "| id | name       |\n",
      "| -- | ---------- |\n",
      "| 1  | ito        |\n",
      "| 2  | sakakibara |\n",
      "| 3  | takahashi  |\n"
     ]
    }
   ],
   "source": [
    "print(makeline(C, maxC, ' '))\n",
    "print(makeline(['' for k in range(W)], maxC, '-'))\n",
    "for j in range(H):\n",
    "    print(makeline(R[j], maxC, ' '))"
   ]
  },
  {
   "cell_type": "code",
   "execution_count": null,
   "metadata": {
    "collapsed": true
   },
   "outputs": [],
   "source": []
  }
 ],
 "metadata": {
  "anaconda-cloud": {},
  "kernelspec": {
   "display_name": "Python [cookbook]",
   "language": "python",
   "name": "Python [cookbook]"
  },
  "language_info": {
   "codemirror_mode": {
    "name": "ipython",
    "version": 3
   },
   "file_extension": ".py",
   "mimetype": "text/x-python",
   "name": "python",
   "nbconvert_exporter": "python",
   "pygments_lexer": "ipython3",
   "version": "3.5.2"
  }
 },
 "nbformat": 4,
 "nbformat_minor": 0
}
